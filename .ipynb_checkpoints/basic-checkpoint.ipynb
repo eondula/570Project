{
 "cells": [
  {
   "cell_type": "markdown",
   "id": "35399f5c-baca-4fa9-b25c-26e6f0fb1c55",
   "metadata": {},
   "source": [
    "# Basic Algorithm\n",
    "\n",
    "- Dynammic Programming"
   ]
  },
  {
   "cell_type": "markdown",
   "id": "2bef124a-294e-4c0b-a78e-2ceade21236f",
   "metadata": {},
   "source": [
    "# Input string Generator"
   ]
  },
  {
   "cell_type": "code",
   "execution_count": 1,
   "id": "f5f8b438-1120-4e21-85b8-113095491402",
   "metadata": {},
   "outputs": [],
   "source": [
    "import os"
   ]
  },
  {
   "cell_type": "code",
   "execution_count": 2,
   "id": "cfa54757-09f2-4f9e-ac35-5a9118616056",
   "metadata": {},
   "outputs": [
    {
     "name": "stdout",
     "output_type": "stream",
     "text": [
      "['input1.txt', 'input2.txt', 'input3.txt', 'input4.txt', 'input5.txt']\n"
     ]
    }
   ],
   "source": [
    "input_file_path = \"input.txt\"\n",
    "sample_test_cases = os.listdir(\"SampleTestCases/input/\")\n",
    "print(sample_test_cases)\n",
    "input_files_directory = \"SampleTestCases/input/\""
   ]
  },
  {
   "cell_type": "code",
   "execution_count": 60,
   "id": "2294ea30-1302-42ce-9ce7-c0aa90fe9d05",
   "metadata": {},
   "outputs": [],
   "source": [
    "def get_file_path(input_files_directory, sample_test_cases):\n",
    "    \"\"\"Get files from SampleTestCases folder\n",
    "    \n",
    "    input_files_directory -- str; directory to get all the input files\n",
    "    sample_test_cases -- str\n",
    "    \n",
    "    return input_file_path -- list\n",
    "    \"\"\"\n",
    "    \n",
    "    test_cases = []\n",
    "    for sample_test_case in range(len(sample_test_cases)):\n",
    "        test_case = input_files_directory + sample_test_cases[sample_test_case]\n",
    "        # print(test_case)\n",
    "        \n",
    "        with open(test_case) as f:\n",
    "        \n",
    "    \n",
    "            # print(test_case)\n",
    "            l2write = []\n",
    "            ns = {}\n",
    "            lines = f.readlines()\n",
    "            strings = []\n",
    "\n",
    "            for i in range(len(lines)):\n",
    "                if lines[i].strip().isdigit() == False:\n",
    "                    l2write.append(0)\n",
    "                    strings.append(lines[i].rstrip())\n",
    "                    ns[strings[-1]] = []\n",
    "                else:\n",
    "                    l2write[-1] += 1\n",
    "                    ns[list(ns)[-1]].append(int(lines[i].rstrip()))\n",
    "        # print(ns)\n",
    "        test_cases.append(ns)\n",
    "    return test_cases"
   ]
  },
  {
   "cell_type": "code",
   "execution_count": 61,
   "id": "34c5d816-24d4-4020-a773-7662de44c808",
   "metadata": {},
   "outputs": [
    {
     "data": {
      "text/plain": [
       "[{'ACTG': [3, 6, 1, 1], 'TACG': [1, 2, 9, 2]},\n",
       " {'ACTG': [3, 6, 1, 1], 'TACG': [1, 2, 0]},\n",
       " {'AGTC': [0, 0, 0, 0, 0], 'TACG': [1, 1, 1, 1, 1]},\n",
       " {'TCGA': [3, 7, 15, 31, 63]},\n",
       " {'ACGT': [3, 6, 1, 1, 5, 6, 7, 8, 9, 20],\n",
       "  'TACG': [1, 2, 0, 4, 3, 2, 0, 5, 6, 17]}]"
      ]
     },
     "execution_count": 61,
     "metadata": {},
     "output_type": "execute_result"
    }
   ],
   "source": [
    "ns = get_file_path(input_files_directory, sample_test_cases)\n",
    "ns"
   ]
  },
  {
   "cell_type": "code",
   "execution_count": 62,
   "id": "fb0e8f78-6016-42b2-a8c7-adfb7363a71e",
   "metadata": {},
   "outputs": [],
   "source": [
    "def get_strings_with_gaps(str_list):\n",
    "    \"\"\"\n",
    "    str_list --\n",
    "    return str_gaps\n",
    "    \"\"\"\n",
    "    s1 = str_list[0]\n",
    "    s2 = str_list[1]\n",
    "    \n",
    "    return str_gaps"
   ]
  },
  {
   "cell_type": "code",
   "execution_count": 160,
   "id": "810fd365-70f9-45cd-9514-0318bed98d25",
   "metadata": {},
   "outputs": [],
   "source": [
    "def build_string(k, v):\n",
    "    \"\"\"\n",
    "    k --\n",
    "    v --\n",
    "    return -- \n",
    "    \"\"\"\n",
    "    # print(k, v)\n",
    "    \n",
    "\n",
    "    final_string = k\n",
    "    for i in v:\n",
    "        new_str = final_string[:i+1] + final_string + final_string[i+1:]\n",
    "        final_string = new_str\n",
    "        # print(\"FS\", final_string)\n",
    "        \n",
    "    return final_string"
   ]
  },
  {
   "cell_type": "code",
   "execution_count": 163,
   "id": "7379cef5-fcd7-4337-aed0-8f81ac1d2c86",
   "metadata": {},
   "outputs": [],
   "source": [
    "def generate_string(sequences):\n",
    "    \"\"\"\n",
    "    sequences -- list; sequences from all input files \n",
    "    return f_strings -- str; \n",
    "    \"\"\"\n",
    "    \n",
    "    # print(sequences)\n",
    "    \n",
    "    final_strings = []\n",
    "    \n",
    "    for sequence in range(len(sequences)):\n",
    "        seq = sequences[sequence]\n",
    "        print(seq)\n",
    "        \n",
    "        f_strings = []\n",
    "        for i, (k, v) in enumerate(seq.items()):\n",
    "            final_string = f_strings.append(build_string(k, v))\n",
    "            print(\"final_string: \", final_string)\n",
    "            \n",
    "    return final_string"
   ]
  },
  {
   "cell_type": "code",
   "execution_count": 167,
   "id": "93104168-1c81-4f8b-b0b8-38f939ad500a",
   "metadata": {},
   "outputs": [
    {
     "name": "stdout",
     "output_type": "stream",
     "text": [
      "{'ACTG': [3, 6, 1, 1], 'TACG': [1, 2, 9, 2]}\n",
      "final_string:  None\n",
      "final_string:  None\n",
      "{'ACTG': [3, 6, 1, 1], 'TACG': [1, 2, 0]}\n",
      "final_string:  None\n",
      "final_string:  None\n",
      "{'AGTC': [0, 0, 0, 0, 0], 'TACG': [1, 1, 1, 1, 1]}\n",
      "final_string:  None\n",
      "final_string:  None\n",
      "{'TCGA': [3, 7, 15, 31, 63]}\n",
      "final_string:  None\n",
      "{'ACGT': [3, 6, 1, 1, 5, 6, 7, 8, 9, 20], 'TACG': [1, 2, 0, 4, 3, 2, 0, 5, 6, 17]}\n",
      "final_string:  None\n",
      "final_string:  None\n",
      "None\n"
     ]
    }
   ],
   "source": [
    "generate_all_strings = generate_string(ns)\n",
    "print(generate_all_strings)"
   ]
  },
  {
   "cell_type": "markdown",
   "id": "6b7327d8-5bc6-4ae4-afa9-72b5e9830772",
   "metadata": {},
   "source": [
    "# Alignment Cost"
   ]
  },
  {
   "cell_type": "code",
   "execution_count": null,
   "id": "da489896-3528-4bc2-80a3-15b67d4bab15",
   "metadata": {},
   "outputs": [],
   "source": [
    "alpha_list = [\n",
    "    [0, 110, 48, 94],\n",
    "    [110, 0, 118, 48],\n",
    "    [48, 118, 0, 110],\n",
    "    [94, 48, 110, 0]]\n",
    "\n",
    "delta_val = 30"
   ]
  },
  {
   "cell_type": "code",
   "execution_count": null,
   "id": "4633c271-3ee7-442a-bef4-e66effafab50",
   "metadata": {},
   "outputs": [],
   "source": [
    "def get_alpha(x):\n",
    "    '''Match letters\n",
    "    x -- char \n",
    "    \n",
    "    return -- alpha int\n",
    "    '''\n",
    "    \n",
    "    if x == 'A':\n",
    "        return 0\n",
    "    elif x == 'C':\n",
    "        return 1\n",
    "    elif x == 'G':\n",
    "        return 2\n",
    "    elif x == 'T':\n",
    "        return 3"
   ]
  },
  {
   "cell_type": "code",
   "execution_count": null,
   "id": "49b398f7-6084-40e2-92ca-0da1a318c56a",
   "metadata": {},
   "outputs": [],
   "source": [
    "def alignment_cost(X, Y, alpha_list, delta):\n",
    "    '''\n",
    "    X -- str\n",
    "    Y -- str\n",
    "    alpha_list -- 2D list\n",
    "    delta -- int\n",
    "    \n",
    "    return -- OPT_alignment_cost, OPT_alignment_matrix\n",
    "    '''\n",
    "    X_length = len(X)\n",
    "    Y_length = len(Y)\n",
    "    \n",
    "    # cols (x) by rows (y)\n",
    "    OPT = [[0 for x in range(X_length + 1)] for y in range(Y_length + 1)]\n",
    "\n",
    "\n",
    "    # base cases/initialize\n",
    "    OPT[0][0] = 0\n",
    "    \n",
    "    # initialize/fix on rows: need the columns to change (going column by column)\n",
    "    for col in range(X_length + 1):\n",
    "        OPT[0][col] = col * delta\n",
    "        \n",
    "    \n",
    "    # initialize/fix on rows: need the columns to change (going column by column)    \n",
    "    for row in range(Y_length + 1):\n",
    "        # print(col)\n",
    "        OPT[row][0] = row * delta\n",
    "        # print(OPT)\n",
    "\n",
    "    # outter loop reps cols\n",
    "    for i in range(1, X_length + 1):\n",
    "        \n",
    "        # inner loop reps rows\n",
    "        for j in range(1, Y_length + 1):\n",
    "            \n",
    "            x_i = X[i - 1]\n",
    "            y_j = Y[j - 1] \n",
    "          \n",
    "            # get_alpha(letter) returns int to pass into alpha_list[int--row][int--col]  \n",
    "            alpha = alpha_list[get_alpha(x_i)][get_alpha(y_j)]\n",
    "            \n",
    "            OPT[j][i] = min(\n",
    "                        alpha + OPT[j - 1][i - 1],\n",
    "                        delta + OPT[j - 1][i],\n",
    "                        delta + OPT[j][i - 1]\n",
    "            )\n",
    "            \n",
    "\n",
    "    return OPT[len(Y)][len(X)], OPT"
   ]
  },
  {
   "cell_type": "code",
   "execution_count": null,
   "id": "91ed6702-c003-4a02-a28d-ca7479868abf",
   "metadata": {},
   "outputs": [],
   "source": [
    "# X = \"ACTG\"\n",
    "# Y = \"TATT\"\n",
    "\n",
    "# X = \"ACACACTGACTACTGACTGGTGACTACTGACTGGACTGACTACTGACTGGTGACTACTGACTGG\" \n",
    "# Y = \"TATTATTATACGCTATTATACGCGACGCGGACGCGTATACGCTATTATACGCGACGCGGACGCG\"\n",
    "\n",
    "X = generate_string(ns)[0]\n",
    "# print(X)\n",
    "Y = generate_string(ns)[1]\n",
    "# print(Y)\n",
    "\n",
    "for generate_string in range(generate_all_strings)\n",
    "    cost, opt = alignment_cost(X, Y, alpha_list, delta_val)\n",
    "    print(cost)\n",
    "print()\n",
    "# print(opt)"
   ]
  },
  {
   "cell_type": "markdown",
   "id": "413d7870-b9aa-45d7-9da5-330c6d4f7452",
   "metadata": {},
   "source": [
    "# String Alignment"
   ]
  },
  {
   "cell_type": "code",
   "execution_count": null,
   "id": "c52f58d2-8d1c-464f-b4fc-bd9d20e79abe",
   "metadata": {},
   "outputs": [],
   "source": [
    "def get_string_alignment(opt, str1, str2, delta):\n",
    "    \"\"\"\n",
    "    opt -- Nd matrix of opt solution\n",
    "    str1 -- str;  1st string alignment\n",
    "    str2 -- str;  2nd string alignment\n",
    "    delta -- int\n",
    "    \n",
    "    return str1_alignment, str2_alignment -- str\n",
    "    \"\"\"\n",
    "    \n",
    "    # store string alignments as list and join at end to return as string\n",
    "    str1_alignment = []\n",
    "    str2_alignment = []\n",
    "  \n",
    "    # number of rows\n",
    "    m = len(opt) \n",
    "    \n",
    "    # number of cols\n",
    "    n = len(opt[0]) \n",
    "    \n",
    "    # i corresponds to rows\n",
    "    i = m - 1\n",
    "    \n",
    "    # j corresponds to cols\n",
    "    j = n - 1  \n",
    "    \n",
    "    while i >= 0 and j >= 0:\n",
    "        \n",
    "        # base case\n",
    "        letterx = str1[j - 1]\n",
    "        lettery = str2[i - 1]\n",
    "        # print(letterx, lettery)\n",
    "    \n",
    "        if i == 0 and j == 0:\n",
    "            break\n",
    "    \n",
    "        # first row; go left\n",
    "        elif i == 0:\n",
    "            str1_alignment.insert(0, letterx)\n",
    "            str2_alignment.insert(0, '_')\n",
    "            j -= 1\n",
    "\n",
    "        # first col; go up\n",
    "        elif j == 0:\n",
    "            str1_alignment.insert(0, '_')\n",
    "            str2_alignment.insert(0, lettery)\n",
    "            i -= 1\n",
    "        \n",
    "        # comparisons\n",
    "        else: \n",
    "            \n",
    "            # go diagonally - up left\n",
    "            if (opt[i - 1][j - 1] + alpha_list[get_alpha(str1[j - 1])][get_alpha(str2[ i- 1])]) == opt[i][j]:\n",
    "                \n",
    "                str1_alignment.insert(0, letterx) \n",
    "                str2_alignment.insert(0, lettery)\n",
    "                i -= 1\n",
    "                j -= 1\n",
    "                \n",
    "            # go up\n",
    "            elif opt[i - 1][j] + delta_val == opt[i][j]:\n",
    "                \n",
    "                str1_alignment.insert(0, \"_\")\n",
    "                str2_alignment.insert(0, lettery)\n",
    "                i -= 1\n",
    "                \n",
    "            # go left    \n",
    "            else:\n",
    "                \n",
    "                str1_alignment.insert(0, letterx) \n",
    "                str2_alignment.insert(0, \"_\")    \n",
    "                j -= 1\n",
    "        \n",
    "        s1 = \"\".join(str1_alignment)\n",
    "        s2 = \"\".join(str2_alignment)\n",
    "        \n",
    "    return s1, s2"
   ]
  },
  {
   "cell_type": "code",
   "execution_count": null,
   "id": "e090be42-3812-4ebf-b698-f0fe3e2fef53",
   "metadata": {},
   "outputs": [],
   "source": [
    "string_alignment = get_string_alignment(opt, X, Y, delta_val)\n",
    "string_alignment"
   ]
  },
  {
   "cell_type": "code",
   "execution_count": null,
   "id": "58119503-5657-4a0e-b99c-2bdf926b05ac",
   "metadata": {},
   "outputs": [],
   "source": []
  }
 ],
 "metadata": {
  "kernelspec": {
   "display_name": "Python 3 (ipykernel)",
   "language": "python",
   "name": "python3"
  },
  "language_info": {
   "codemirror_mode": {
    "name": "ipython",
    "version": 3
   },
   "file_extension": ".py",
   "mimetype": "text/x-python",
   "name": "python",
   "nbconvert_exporter": "python",
   "pygments_lexer": "ipython3",
   "version": "3.9.7"
  }
 },
 "nbformat": 4,
 "nbformat_minor": 5
}
