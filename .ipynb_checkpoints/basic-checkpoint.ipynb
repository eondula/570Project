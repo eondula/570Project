{
 "cells": [
  {
   "cell_type": "markdown",
   "id": "35399f5c-baca-4fa9-b25c-26e6f0fb1c55",
   "metadata": {},
   "source": [
    "# Basic Algorithm\n",
    "\n",
    "- Dynammic Programming"
   ]
  },
  {
   "cell_type": "code",
   "execution_count": 1,
   "id": "644f08cb-507f-4b29-a6d7-a81e07472207",
   "metadata": {},
   "outputs": [],
   "source": [
    "def time_wrapper():\n",
    "    start_time = time.time()\n",
    "    # main()\n",
    "    end_time = time.time()\n",
    "    global time_taken\n",
    "    time_taken = (end_time - start_time)*10000000\n",
    "    return time_taken"
   ]
  },
  {
   "cell_type": "code",
   "execution_count": 2,
   "id": "5b03ea89-e337-491e-8a83-684b238478b2",
   "metadata": {},
   "outputs": [],
   "source": [
    "def process_memory():\n",
    "    process = psutil.Process()\n",
    "    memory_info = process.memory_info()\n",
    "    memory_consumed = int(memory_info.rss/1024)\n",
    "    return memory_consumed"
   ]
  },
  {
   "cell_type": "markdown",
   "id": "2bef124a-294e-4c0b-a78e-2ceade21236f",
   "metadata": {},
   "source": [
    "# Input string Generator"
   ]
  },
  {
   "cell_type": "code",
   "execution_count": 3,
   "id": "f5f8b438-1120-4e21-85b8-113095491402",
   "metadata": {},
   "outputs": [],
   "source": [
    "import os\n",
    "import sys\n",
    "from resource import *\n",
    "import time\n",
    "import psutil\n",
    "import matplotlib.pyplot as mpl\n",
    "from matplotlib import patheffects\n",
    "import numpy as np\n",
    "import pandas as pd"
   ]
  },
  {
   "cell_type": "code",
   "execution_count": 4,
   "id": "cfa54757-09f2-4f9e-ac35-5a9118616056",
   "metadata": {},
   "outputs": [],
   "source": [
    "base = \"/Users/brinkley97/Documents/development/classes/csci_570_analysis_of_algorithms/\"\n",
    "# input_file_path = \"classes/csci_570_analysis_of_algorithms/SampleTestCases/input/input1.txt\"\n",
    "sample_test_cases = base + \"SampleTestCases/input/\"\n",
    "input_file = sample_test_cases + \"input1.txt\"\n",
    "# input_file_path = input_file\n",
    "\n",
    "datapoints_path = base + \"datapoints/\"\n",
    "datapoint_file = datapoints_path + \"in14.txt\"\n",
    "input_file_path = datapoint_file"
   ]
  },
  {
   "cell_type": "code",
   "execution_count": 5,
   "id": "2294ea30-1302-42ce-9ce7-c0aa90fe9d05",
   "metadata": {},
   "outputs": [],
   "source": [
    "def get_file_path(input_file_path):\n",
    "    with open(input_file_path) as f:\n",
    "\n",
    "        l2write = []\n",
    "        ns = {}\n",
    "        lines = f.readlines()\n",
    "        strings = []\n",
    "\n",
    "        for i in range(len(lines)):\n",
    "            if lines[i].strip().isdigit() == False:\n",
    "                l2write.append(0)\n",
    "                strings.append(lines[i].rstrip())\n",
    "                ns[strings[-1]] = []\n",
    "            else:\n",
    "                l2write[-1] += 1\n",
    "                ns[list(ns)[-1]].append(int(lines[i].rstrip()))\n",
    "        return ns"
   ]
  },
  {
   "cell_type": "code",
   "execution_count": 6,
   "id": "34c5d816-24d4-4020-a773-7662de44c808",
   "metadata": {},
   "outputs": [
    {
     "data": {
      "text/plain": [
       "{'AAGAGAT': [5, 6, 27, 27, 56, 59, 101, 12],\n",
       " 'AAGATCA': [2, 9, 12, 21, 96, 54, 279, 301]}"
      ]
     },
     "execution_count": 6,
     "metadata": {},
     "output_type": "execute_result"
    }
   ],
   "source": [
    "ns = get_file_path(input_file_path)\n",
    "ns"
   ]
  },
  {
   "cell_type": "code",
   "execution_count": 7,
   "id": "fb0e8f78-6016-42b2-a8c7-adfb7363a71e",
   "metadata": {},
   "outputs": [],
   "source": [
    "# def get_strings_with_gaps(str_list):\n",
    "#     \"\"\"\n",
    "#     str_list --\n",
    "#     return str_gaps\n",
    "#     \"\"\"\n",
    "#     s1 = str_list[0]\n",
    "#     s2 = str_list[1]\n",
    "    \n",
    "#     return str_gaps"
   ]
  },
  {
   "cell_type": "code",
   "execution_count": 8,
   "id": "810fd365-70f9-45cd-9514-0318bed98d25",
   "metadata": {},
   "outputs": [],
   "source": [
    "def build_string(k, v):\n",
    "    \"\"\"\n",
    "    k --\n",
    "    v --\n",
    "    return -- \n",
    "    \"\"\"\n",
    "    # print(\"k\", k, \"\\n\", v)\n",
    "\n",
    "    final_string = k\n",
    "    \n",
    "    for i in v:\n",
    "        new_str = final_string[:i+1] + final_string + final_string[i+1:]\n",
    "        final_string = new_str\n",
    "\n",
    "    return final_string"
   ]
  },
  {
   "cell_type": "code",
   "execution_count": 9,
   "id": "7379cef5-fcd7-4337-aed0-8f81ac1d2c86",
   "metadata": {},
   "outputs": [],
   "source": [
    "def generate_string(sequences):\n",
    "    \"\"\"\n",
    "    sequences -- dict;\n",
    "    return f_strings -- str; \n",
    "    \"\"\"\n",
    "    \n",
    "    # print(sequences)\n",
    "    \n",
    "    \n",
    "    f_strings = []\n",
    " \n",
    "    for i, (k, v) in enumerate(sequences.items()):\n",
    "        f_strings.append(build_string(k, v))\n",
    "        # print(\"f_strings: \", f_strings)         \n",
    "    \n",
    "    return f_strings"
   ]
  },
  {
   "cell_type": "code",
   "execution_count": 10,
   "id": "93104168-1c81-4f8b-b0b8-38f939ad500a",
   "metadata": {},
   "outputs": [],
   "source": [
    "get_generated_strings = generate_string(ns)\n",
    "# print(get_generated_strings)"
   ]
  },
  {
   "cell_type": "markdown",
   "id": "6b7327d8-5bc6-4ae4-afa9-72b5e9830772",
   "metadata": {},
   "source": [
    "# Alignment Cost"
   ]
  },
  {
   "cell_type": "code",
   "execution_count": 11,
   "id": "da489896-3528-4bc2-80a3-15b67d4bab15",
   "metadata": {},
   "outputs": [],
   "source": [
    "alpha_list = [\n",
    "    [0, 110, 48, 94],\n",
    "    [110, 0, 118, 48],\n",
    "    [48, 118, 0, 110],\n",
    "    [94, 48, 110, 0]]\n",
    "\n",
    "delta_val = 30"
   ]
  },
  {
   "cell_type": "code",
   "execution_count": 12,
   "id": "4633c271-3ee7-442a-bef4-e66effafab50",
   "metadata": {},
   "outputs": [],
   "source": [
    "def get_alpha(x):\n",
    "    '''Match letters\n",
    "    x -- char \n",
    "    \n",
    "    return -- alpha int\n",
    "    '''\n",
    "    \n",
    "    if x == 'A':\n",
    "        return 0\n",
    "    elif x == 'C':\n",
    "        return 1\n",
    "    elif x == 'G':\n",
    "        return 2\n",
    "    elif x == 'T':\n",
    "        return 3"
   ]
  },
  {
   "cell_type": "code",
   "execution_count": 13,
   "id": "49b398f7-6084-40e2-92ca-0da1a318c56a",
   "metadata": {},
   "outputs": [],
   "source": [
    "def alignment_cost(X, Y, alpha_list, delta):\n",
    "    '''\n",
    "    X -- str\n",
    "    Y -- str\n",
    "    alpha_list -- 2D list\n",
    "    delta -- int\n",
    "    \n",
    "    return -- OPT_alignment_cost, OPT_alignment_matrix\n",
    "    '''\n",
    "    X_length = len(X)\n",
    "    Y_length = len(Y)\n",
    "    \n",
    "    # cols (x) by rows (y)\n",
    "    OPT = [[0 for x in range(X_length + 1)] for y in range(Y_length + 1)]\n",
    "\n",
    "\n",
    "    # base cases/initialize\n",
    "    OPT[0][0] = 0\n",
    "    \n",
    "    # initialize/fix on rows: need the columns to change (going column by column)\n",
    "    for col in range(X_length + 1):\n",
    "        OPT[0][col] = col * delta\n",
    "        \n",
    "    \n",
    "    # initialize/fix on rows: need the columns to change (going column by column)    \n",
    "    for row in range(Y_length + 1):\n",
    "        # print(col)\n",
    "        OPT[row][0] = row * delta\n",
    "        # print(OPT)\n",
    "\n",
    "    # outter loop reps cols\n",
    "    for i in range(1, X_length + 1):\n",
    "        \n",
    "        # inner loop reps rows\n",
    "        for j in range(1, Y_length + 1):\n",
    "            \n",
    "            x_i = X[i - 1]\n",
    "            y_j = Y[j - 1] \n",
    "          \n",
    "            # get_alpha(letter) returns int to pass into alpha_list[int--row][int--col]  \n",
    "            alpha = alpha_list[get_alpha(x_i)][get_alpha(y_j)]\n",
    "            \n",
    "            OPT[j][i] = min(\n",
    "                        alpha + OPT[j - 1][i - 1],\n",
    "                        delta + OPT[j - 1][i],\n",
    "                        delta + OPT[j][i - 1]\n",
    "            )\n",
    "            \n",
    "\n",
    "    return OPT[len(Y)][len(X)], OPT"
   ]
  },
  {
   "cell_type": "code",
   "execution_count": 14,
   "id": "91ed6702-c003-4a02-a28d-ca7479868abf",
   "metadata": {},
   "outputs": [],
   "source": [
    "X = get_generated_strings[0]\n",
    "# print(X)\n",
    "Y = get_generated_strings[1]\n",
    "# print(Y)\n",
    "\n",
    "# X = \"ACTG\"\n",
    "# Y = \"TATT\"\n",
    "\n",
    "cost, opt = alignment_cost(X, Y, alpha_list, delta_val)\n",
    "# print(cost, opt)"
   ]
  },
  {
   "cell_type": "markdown",
   "id": "413d7870-b9aa-45d7-9da5-330c6d4f7452",
   "metadata": {},
   "source": [
    "# String Alignment"
   ]
  },
  {
   "cell_type": "code",
   "execution_count": 15,
   "id": "c52f58d2-8d1c-464f-b4fc-bd9d20e79abe",
   "metadata": {},
   "outputs": [],
   "source": [
    "def get_string_alignment(opt, str1, str2, delta):\n",
    "    \"\"\"\n",
    "    opt -- Nd matrix of opt solution\n",
    "    str1 -- str;  1st string alignment\n",
    "    str2 -- str;  2nd string alignment\n",
    "    delta -- int\n",
    "    \n",
    "    return str1_alignment, str2_alignment -- str\n",
    "    \"\"\"\n",
    "    \n",
    "    # store string alignments as list and join at end to return as string\n",
    "    str1_alignment = []\n",
    "    str2_alignment = []\n",
    "  \n",
    "    # number of rows\n",
    "    m = len(opt) \n",
    "    \n",
    "    # number of cols\n",
    "    n = len(opt[0]) \n",
    "    \n",
    "    # i corresponds to rows\n",
    "    i = m - 1\n",
    "    \n",
    "    # j corresponds to cols\n",
    "    j = n - 1  \n",
    "    \n",
    "    while i >= 0 and j >= 0:\n",
    "        \n",
    "        # base case\n",
    "        letterx = str1[j - 1]\n",
    "        lettery = str2[i - 1]\n",
    "        # print(letterx, lettery)\n",
    "    \n",
    "        if i == 0 and j == 0:\n",
    "            break\n",
    "    \n",
    "        # first row; go left\n",
    "        elif i == 0:\n",
    "            str1_alignment.insert(0, letterx)\n",
    "            str2_alignment.insert(0, '_')\n",
    "            j -= 1\n",
    "\n",
    "        # first col; go up\n",
    "        elif j == 0:\n",
    "            str1_alignment.insert(0, '_')\n",
    "            str2_alignment.insert(0, lettery)\n",
    "            i -= 1\n",
    "        \n",
    "        # comparisons\n",
    "        else: \n",
    "            \n",
    "            # go diagonally - up left\n",
    "            if (opt[i - 1][j - 1] + alpha_list[get_alpha(str1[j - 1])][get_alpha(str2[ i- 1])]) == opt[i][j]:\n",
    "                \n",
    "                str1_alignment.insert(0, letterx) \n",
    "                str2_alignment.insert(0, lettery)\n",
    "                i -= 1\n",
    "                j -= 1\n",
    "                \n",
    "            # go up\n",
    "            elif opt[i - 1][j] + delta_val == opt[i][j]:\n",
    "                \n",
    "                str1_alignment.insert(0, \"_\")\n",
    "                str2_alignment.insert(0, lettery)\n",
    "                i -= 1\n",
    "                \n",
    "            # go left    \n",
    "            else:\n",
    "                \n",
    "                str1_alignment.insert(0, letterx) \n",
    "                str2_alignment.insert(0, \"_\")    \n",
    "                j -= 1\n",
    "        \n",
    "        s1 = \"\".join(str1_alignment)\n",
    "        s2 = \"\".join(str2_alignment)\n",
    "        \n",
    "    return s1, s2"
   ]
  },
  {
   "cell_type": "code",
   "execution_count": 16,
   "id": "e090be42-3812-4ebf-b698-f0fe3e2fef53",
   "metadata": {},
   "outputs": [],
   "source": [
    "string_alignment_1, string_alignment_2 = get_string_alignment(opt, X, Y, delta_val)\n",
    "# string_alignment_1"
   ]
  },
  {
   "cell_type": "code",
   "execution_count": 17,
   "id": "d4d61a5e-0cd4-44a6-bdac-b9fb1dda601a",
   "metadata": {},
   "outputs": [],
   "source": [
    "# string_alignment_2"
   ]
  },
  {
   "cell_type": "code",
   "execution_count": 18,
   "id": "58119503-5657-4a0e-b99c-2bdf926b05ac",
   "metadata": {},
   "outputs": [],
   "source": [
    "# print(\"Time taken: \",time_wrapper())\n",
    "# print(\"Memory\", process_memory())"
   ]
  },
  {
   "cell_type": "code",
   "execution_count": 19,
   "id": "c0651cd5-a9db-457a-ba32-0972b4c32469",
   "metadata": {},
   "outputs": [],
   "source": [
    "# global problem_size\n",
    "\n",
    "m = len(string_alignment_1)\n",
    "n = len(string_alignment_2)\n",
    "problem_size = m + n"
   ]
  },
  {
   "cell_type": "code",
   "execution_count": 20,
   "id": "a280c6a4-7bd5-4765-9000-08e301817889",
   "metadata": {},
   "outputs": [
    {
     "name": "stdout",
     "output_type": "stream",
     "text": [
      "29532\n",
      "AAGAGAAAAGAGA__AAGAGAAAAGAGAAAGAGATT_AG_AGATTAAGAGAAAAGAGA__AAGAGATTAGAGATTAAAGAAGAGA__AAAGAGAAAGAGATT_AG_AGATTAAGAGAAAAGAGAA__AAGAGAAAAGAGA__AAG__AGATTAGAGATTAAG__AGA__AAAGAGAAAGAGATTAGA__GATTAAAGAAGAGA__AAAGAGAAAGAGATT_AG_AGATTAAGAGAA_AAGAG__AAAG_AGATTAGA__GATTAAAGAG__AA__AAG__AGAAAG_AGATTAGAGATTAAGAGAA__AAGAGAAAG__AGATTAGAGATTAAGAGA__AA__AGAG__AAAGAGATTAGAGATTAAGAGAAAAGAGAAAGAGATTAGAGATTAGAGA__AAAGAGAAAGAGATT_AG_AGATTAAGAGAA_AAGAG__AAAG_AGATTAGAGATTAGA__AAAGAGAAAGAGATT_AG_AGATTAAGAGAA_AAGAG__AAAG_AGATTAGA__GATTAAGAGA__AA__AGAG__AAAGAGATTAGAGATTAAG__AGA__AAAG_AGA__AAGAGATTAG_AGATTAGAGAAAAGAGA__AAGAGATTAG_AGATTAAGAGAAAAGAGA__AAG__AGATTAGAGATTAGAGATTAGAGATTAAAGAGAAAAGAGAAAG__AGATTAGAGATTAAGAGAA__AAG__AGA__AAGAGATTAGAGATTAAGAG__AAAAG_AGA__AAGAGATTAG_AGATTAAG_AGA__AAAGAGAAAGAGATTAGAGATTAGAGA__AAAG_AGA__AAGAGATTAG_AGATTAAGAGAAAAGAGA__AAGAGATTAG_AGATTAGAAAAGAGA__AAG__AGATTAGAGATTAAG__AGA__AAAGAGAAAGAGATTAGA__GATTAAGAGAA_A__AGAGAAAG_AGATT_AG_AGATTAAGAGAA_AAGAG__AAAG_AGATTAGA__GATTAGAGA__AA__AGA__GAAAG_AGATTAGA__GATTAAGAGAA__AAG__AGA__AAGAGATTAGA__GATTAAG__AGATTAGAGATTAAG__AGA__AAAGAGAAAGAGATTAGA__GATTAAAGAAGAGA__AAAGAGAAAGAGATT_AG_AGATTAAGAGAAAAGAGAA__AAGAGAAAAGAGA__AAG__AGATTAGAGATTAAG__AGA__AAAGAGAAAGAGATTAGA__GATTAAAGA__AGAG__AA__AAGAGA__AAG__AGATTAG__AGATTAAGAGA__AA__AGA__GAAAG_AGATTAGA__GATTAAAG_AGA__AAAGAGAAAGAGATT_AG_AGATTAAGAGAA_AAGAG__AAAG_AGATTAGA__GATTAAGAGA__AA__AGAG__AAAGAGATTAGAGATTAAGAG__AA__AAGAGA__AAG__AGATTAGAGATTAGAG__AA__AAGAGAAAGAGATTAGAGATTAAGAGAAAAGAG__AAAG_AGATTAGAGATTAGA__AAAGAGAAAGAGATT_AG_AGATTAAGAGAA_AAGAG__AAAG_AGATTAGA__GATTAAGAGA__AA__AGA__GAAAG_AGATTAGA__GATTAAGAGAA_A__AGAGAAAG_AGATT_AG_AGATTAGAGAA_AAGAG__AAAG_AGATTAGA__GATTAAGAGA__AA__AGA__GAAAG_AGATTAGAGATTAGAGATTAGAGATTAAAGAG__AA__AAGAGA__AAG__AGATTAGA__GATTAAGAGA__AA__AGAG__AAAGAGATTAGAGATTAAG__AGA__AAAG_AGA__AAGAGATTAG_AGATTAAG_AGA__AAAGAGAAAGAGATTAGAGATTAGAGAA__AAG__AGA__AAGAGATTAGAGATTAAGAG__AAAAG_AGA__AAG__AGATTAGAGATTAGA__AA__AGAGA__AAG__AGATTAG__AGATTAAGAGA__AA__AGA__GAAAG_AGATTAGA__GATTAAGAGAA_A__AGAGAAAG_AGATT_AG_AGATTAAGAGAA_AAGAG__AAAG_AGATTAGA__GATTAGAGA__AA__AGA__GAAAG_AGATTAGA__GATTAAGAGAA__AAG__AGA__AAGAGATTAGA__GATT_\n",
      "_A_AG___A_AGATCAA_AG___A_AG__A_AGATCAAGAAGATCAA_AGAAGA_AGATCAA_AG___A_AGATCAAAG_A_AGATCAAAGA_AGA_AGATCAAGAAGATCAA_AGAAGA_AG_ATCAA_AG___A_AGATCAA_TCA_ATCAAAGATCAA_TCA_ATCAAA_AG__A_AGATCA_ATCAATCAAAG_A_AGATCAAAGA_AGA_AGATCAAGAAGATCAA_AGAAGAAGA_TCAAAGAAGATCA_ATCAATCAAAGA_TCAATCAA_TCA_AAAGAAGATC__A_ATC_____AATCAA_AG__A_TCA_ATC__A_ATCAA_AGATCAATCA_A_TCAAA_AG___A_AGATCAA_AG___A_AG__A_AGATCA_AG___A_AGATCAAAGA_AGA_AGATCAAGAAGATCAA_AGAAGAAGA_TCAAAGAAGATCAAAGA__AGATCAAAGA_AGA_AGATCAAGAAGATCAA_AGAAGAAGA_TCAAAGAAGATCA_ATCAATCAA_AGATCAATCA_A_TCAAA_AG___A_AGATCAA_TCA_ATCAAAGAAGATCAA_AGA__AGAAGATCA_AG___A_AGATCAA_AGA__AGAAGATCAA_AG___A_AGATCAA_TCA_ATCAAAGATC__A_ATC__A_ATCAAA_AG___A_AG__A_TCA_ATC__A_ATCAA_AG_ATCAA_TCA_ATCAA_AGATC__A_ATC_A_A_TCAAAAGAAGATCAA_AGA__AGAAGATCAAGAAGATCAAAGA_AGA_AGATCAAAG___A_AGATCAAAGAAGATCAA_AGA__AGAAGATC_A_AG___A_AGATCAA_AGA__AGAAGATCA_AAGA_AGATCAA_TCA_ATCAAAGATCAA_TCA_ATCAAA_AG__A_AGATCA_ATCAATCAA_AGAAGATCAAAG_AAGAAGATCAAGAAGATCAA_AGAAGAAGA_TCAAAGAAGATCA_ATCAATCAAAGATCAATCA_ATCAAAAGAAGATCA_ATCAATCAA_AG_ATCAA_TCA_ATCAA_AGATCA_ATCAATCAA_TCA_ATCAAAGATCAA_TCA_ATCAAA_AG__A_AGATCA_ATCAATCAAAG_A_AGATCAAAGA_AGA_AGATCAAGAAGATCAA_AGAAGA_AG_ATCAA_AG___A_AGATCAA_TCA_ATCAAAGATCAA_TCA_ATCAAA_AG__A_AGATCA_ATCAATCAAAGATCA_A_TCAATCAA_AGATCAA_TCA_ATCA_TCA_ATCAA_AGATCAATCA_ATCAAAAGAAGATCA_ATCAATCAAAGAAGATCAAAGA_AGA_AGATCAAGAAGATCAA_AGAAGAAGA_TCAAAGAAGATCA_ATCAATCAA_AGATCAATCA_A_TCAAA_AG___A_AGATC_A_A_TCAATCAA_AGATCAA_TCA_ATCAAAGATCA_A_TCAATCAA_AG__A_AGATC____A__AAGA_AGAAGA_TCAAAGAAGATCAAAGA__AGATCAAAGA_AGA_AGATCAAGAAGATCAA_AGAAGAAGA_TCAAAGAAGATCA_ATCAATCAA_AGATCAATCA_ATCAAAAGAAGATCA_ATCAATCAA_AGAAGATCAAAG_AAGAAGATCAAGAAGATCAAAGAAGAAGA_TCAAAGAAGATCA_ATCAATCAA_AGATCAATCA_ATCAAAAGAAGATC__A_ATC__A_ATCAAAGATC__A_A_TCAATCAA_AGATCAA_TCA_ATCA_ATCAATCAA_AGATCAATCA_A_TCAAA_AG___A_AGATCAA_TCA_ATCAAAGAAGATCAA_AGA__AGAAGATCAAGAAGATCAAAGA_AGA_AGATCAAAG___A_AG_ATCAA_TCA_ATCAA_AGATC__A_ATC_A_A_TCAAAAGAAGATCAA_TCA_ATCAAAGATCA_ATCAATCAAAGATCAA_TCA_ATCA_TCA_ATCAA_AGATCAATCA_ATCAAAAGAAGATCA_ATCAATCAA_AGAAGATCAAAG_AAGAAGATCAAGAAGATCAA_AGAAGAAGA_TCAAAGAAGATCA_ATCAATCAAAGATCAATCA_ATCAAAAGAAGATCA_ATCAATCAA_AG_ATCAA_TCA_ATCAA_AGATCA_ATCAATCA\n",
      "0.0\n",
      "260920\n",
      "4298\n",
      "CPU times: user 535 µs, sys: 246 µs, total: 781 µs\n",
      "Wall time: 663 µs\n"
     ]
    }
   ],
   "source": [
    "%%time\n",
    "print(cost)\n",
    "print(string_alignment_1)\n",
    "print(string_alignment_2)\n",
    "time_wrapper()\n",
    "print(time_taken)\n",
    "print(process_memory())\n",
    "print(problem_size)"
   ]
  },
  {
   "cell_type": "code",
   "execution_count": 21,
   "id": "eff10016-692d-409e-aa15-09c6791bf0ac",
   "metadata": {},
   "outputs": [],
   "source": [
    "# base = \"/Users/brinkley97/Documents/development/classes/csci_570_analysis_of_algorithms/\"\n",
    "# input_file_path = \"classes/csci_570_analysis_of_algorithms/SampleTestCases/input/input1.txt\"\n",
    "# sample_test_cases = base + \"SampleTestCases/input/\"\n",
    "# input_file = sample_test_cases + \"input1.txt\"\n",
    "# input_file_path = input_file\n",
    "\n",
    "# datapoints_path = base + \"datapoints/\"\n",
    "# datapoint_file = datapoints_path + \"in1.txt\"\n",
    "datapoint_output_file = datapoints_path + \"out/\" + \"out15.txt\""
   ]
  },
  {
   "cell_type": "code",
   "execution_count": 22,
   "id": "e867a0c0-a899-41a5-9b7b-0714fa4a4265",
   "metadata": {},
   "outputs": [],
   "source": [
    "file_name = datapoint_output_file\n",
    "f = open(file_name, \"w\")\n",
    "# f.write(\"Now the file has more content!\")\n",
    "f.write(str(cost))\n",
    "f.write(\"\\n\")\n",
    "f.write(str(string_alignment_1))\n",
    "f.write(\"\\n\")\n",
    "f.write(str(string_alignment_2))\n",
    "f.write(\"\\n\")\n",
    "f.write(str(time_wrapper()))\n",
    "f.write(\"\\n\")\n",
    "f.write(str(process_memory()))\n",
    "f.write(\"\\n\")\n",
    "f.write(str(problem_size))\n",
    "f.write(\"\\n\")\n",
    "f.close()"
   ]
  },
  {
   "cell_type": "markdown",
   "id": "fbcf9da2-770b-48e9-9a85-f3da5d2239d8",
   "metadata": {},
   "source": [
    "# Plots --- NOT DONE, NEED FOR INPUT 4\n",
    "- OPT cost\n",
    "- str1 align\n",
    "- str 2 align\n",
    "- time\n",
    "- memory\n",
    "- prob size"
   ]
  },
  {
   "cell_type": "code",
   "execution_count": null,
   "id": "85cedf6f-83ff-4aa3-a9cd-fed7c7771aa9",
   "metadata": {
    "jupyter": {
     "source_hidden": true
    },
    "tags": []
   },
   "outputs": [],
   "source": [
    "# 1296\n",
    "# _A_CA_CACT__G__A_C_TAC_TGACTG_GTGA__C_TACTGACTGGACTGACTACTGACTGGTGACTACT_GACTG_G\n",
    "# TATTATTA_TACGCTATTATACGCGAC_GCG_GACGCGTA_T_AC__G_CT_ATTA_T_AC__GCGAC_GC_GGAC_GCG\n",
    "# 160\n",
    "# Time taken:  48.6445426940918\n",
    "# Memory 13024"
   ]
  },
  {
   "cell_type": "code",
   "execution_count": null,
   "id": "d33e53a0-b086-4dd2-9fab-d58e9c4b652e",
   "metadata": {
    "jupyter": {
     "source_hidden": true
    },
    "tags": []
   },
   "outputs": [],
   "source": [
    "# 1128\n",
    "# ACACACTGACTACTGACTGGTGACTACTGACTGGACTGACTACTGACTGGTGACTAC_TGACTG_G \n",
    "#  __________T__T_A_T__T_A_TAC_G_C__GAC_G____C_GA_T__T_A_TACGCGAC_GCG\n",
    "# Problem size:  132\n",
    "# Time taken:  4.003286361694336\n",
    "# Memory 12596"
   ]
  },
  {
   "cell_type": "code",
   "execution_count": null,
   "id": "982896bd-1b4e-4a7c-913b-3c85c8b7d35e",
   "metadata": {
    "jupyter": {
     "source_hidden": true
    },
    "tags": []
   },
   "outputs": [],
   "source": [
    "# 980\n",
    "# _A_A_A_A_A_A_GTCGTCA_GTCGTCA_A_GTCGTCA_GTCGTCA_A_A_GTCGTCA_GTCGTCA_A_GTCGTCA_GTCGTCA_A_A_A_GTCGTCA_GTCGTCA_A_GTCGTCA_GTCGTCA_A_A_GTCGTCA_GTCGTCAAGT_CGTCAGT_CGTC_\n",
    "\n",
    "# TATATATATATACG_CGT_ACG_CGT_ATACG_CGT_ACG_CGT_ATATACG_CGT_ACG_CGT_ATACG_CGT_ACG_CGT_ATATATACG_CGT_ACG_CGT_ATACG_CGT_ACG_CGT_ATATACG_CGT_ACG_CGT__A_TACG_C_GTACG_CG\n",
    "# Problem size:  322\n",
    "# Time taken:  84.08689498901367\n",
    "# Memory 13132"
   ]
  },
  {
   "cell_type": "code",
   "execution_count": null,
   "id": "41bb49e2-2296-48c7-bd63-1619c86d6d03",
   "metadata": {},
   "outputs": [],
   "source": []
  },
  {
   "cell_type": "code",
   "execution_count": null,
   "id": "7c3de722-fd16-4da5-9caf-675c9b8e9f92",
   "metadata": {
    "jupyter": {
     "source_hidden": true
    },
    "tags": []
   },
   "outputs": [],
   "source": [
    "# Problem size:  9714\n",
    "# Time taken:  35080.387115478516\n",
    "# Memory 989596"
   ]
  },
  {
   "cell_type": "code",
   "execution_count": null,
   "id": "aa138d0b-927c-4dd2-8fb3-55be803daef8",
   "metadata": {},
   "outputs": [],
   "source": [
    "# problem_sizes = [160, 132, 322, x, 9714]\n",
    "# times = [48.6445426940918, 4.003286361694336, 84.08689498901367, x, 35080.387115478516]\n",
    "# memory = [13024, 12596, 13132, x, 989596]"
   ]
  },
  {
   "cell_type": "code",
   "execution_count": null,
   "id": "43d95455-bc5d-4d70-af43-c76ebbd6b28e",
   "metadata": {},
   "outputs": [],
   "source": [
    "problem_sizes = [160, 132, 322, 9714]\n",
    "times = [48.6445426940918, 4.003286361694336, 84.08689498901367, 35080.387115478516]\n",
    "memory = [13024, 12596, 13132, 989596]"
   ]
  },
  {
   "cell_type": "code",
   "execution_count": null,
   "id": "768bff52-5873-4c96-be42-e351613c1a22",
   "metadata": {},
   "outputs": [],
   "source": []
  },
  {
   "cell_type": "code",
   "execution_count": null,
   "id": "515e7fab-02d8-4e3b-8d97-d4b21cccdd80",
   "metadata": {},
   "outputs": [],
   "source": [
    "# mpl.plot([1, 2, 3, 80])\n",
    "# mpl.ylabel('memory')\n",
    "# mpl.xlabel('time')\n",
    "# mpl.show()"
   ]
  },
  {
   "cell_type": "code",
   "execution_count": null,
   "id": "953ad2cc-63e2-4641-9696-041fe56fd8d9",
   "metadata": {},
   "outputs": [],
   "source": [
    "x = np.linspace(-100,10,200); \n",
    "y = np.sin(4*x)/np.exp(x);\n",
    "mpl.plot(x,y)\n",
    "mpl.xlim(0, 10)\n",
    "mpl.ylim([-0.4, 0.8])"
   ]
  },
  {
   "cell_type": "code",
   "execution_count": null,
   "id": "139715ce-d937-47f1-96a2-f85807548478",
   "metadata": {},
   "outputs": [],
   "source": [
    "x = np.linspace(100,10,200); \n",
    "y = np.sin(4*x)/np.exp(x);\n",
    "mpl.plot(x,y)\n",
    "mpl.xlim(0, max(times))\n",
    "mpl.ylim([0, max(problem_sizes)])"
   ]
  },
  {
   "cell_type": "code",
   "execution_count": null,
   "id": "5e9e3929-14b2-43f2-9e96-aae185df5a5c",
   "metadata": {},
   "outputs": [],
   "source": [
    "problem_sizes = [160, 132, 322, 9714]\n",
    "times = [48.6445426940918, 4.003286361694336, 84.08689498901367, 35080.387115478516]\n",
    "memory = [13024, 12596, 13132, 989596]"
   ]
  },
  {
   "cell_type": "code",
   "execution_count": null,
   "id": "ffee548d-e4d3-4e99-b428-bf39d4063fde",
   "metadata": {},
   "outputs": [],
   "source": [
    "mpl.plot(memory)\n",
    "mpl.ylabel('memory')\n",
    "mpl.xlabel('time')\n",
    "mpl.show()\n"
   ]
  },
  {
   "cell_type": "code",
   "execution_count": null,
   "id": "efd90bdc-1114-4ece-a37f-41e6b0bf8877",
   "metadata": {},
   "outputs": [],
   "source": [
    "# df = pd.DataFrame({\n",
    "#    'pig': [20, 18, 489, 675, 1776],\n",
    "#    'horse': [4, 25, 281, 600, 1900]\n",
    "#    }, index=[1990, 1997, 2003, 2009, 2014])\n",
    "# lines = df.plot.line()"
   ]
  },
  {
   "cell_type": "markdown",
   "id": "18cf8c35-f807-4cf0-86b5-9f6ab4d0afe9",
   "metadata": {},
   "source": [
    "# Memory vs Problem Size"
   ]
  },
  {
   "cell_type": "code",
   "execution_count": null,
   "id": "0efd782d-14cc-4ada-998d-4084f3086ed1",
   "metadata": {},
   "outputs": [],
   "source": [
    "problem_sizes = [160, 132, 322, 9714]\n",
    "times = [48.6445426940918, 4.003286361694336, 84.08689498901367, 35080.387115478516]\n",
    "memory = [13024, 12596, 13132, 989596]"
   ]
  },
  {
   "cell_type": "code",
   "execution_count": null,
   "id": "2ac2505c-5ce7-411b-b904-0bf18619bc39",
   "metadata": {},
   "outputs": [
    {
     "data": {
      "text/plain": [
       "(0.0, 40000.0)"
      ]
     },
     "execution_count": 20,
     "metadata": {},
     "output_type": "execute_result"
    },
    {
     "data": {
      "image/png": "[encoded data removed]",
      "text/plain": [
       "<Figure size 432x288 with 1 Axes>"
      ]
     },
     "metadata": {
      "needs_background": "light"
     },
     "output_type": "display_data"
    }
   ],
   "source": [
    "x = problem_sizes\n",
    "y = memory\n",
    "mpl.plot(x, y, 'o-r')\n",
    "mpl.xlim(0, 1050)\n",
    "mpl.ylim([0, 40000])"
   ]
  },
  {
   "cell_type": "code",
   "execution_count": null,
   "id": "68a74c47-5b28-4089-8d54-9bbc4c1f5a49",
   "metadata": {},
   "outputs": [],
   "source": []
  }
 ],
 "metadata": {
  "kernelspec": {
   "display_name": "Python 3 (ipykernel)",
   "language": "python",
   "name": "python3"
  },
  "language_info": {
   "codemirror_mode": {
    "name": "ipython",
    "version": 3
   },
   "file_extension": ".py",
   "mimetype": "text/x-python",
   "name": "python",
   "nbconvert_exporter": "python",
   "pygments_lexer": "ipython3",
   "version": "3.9.7"
  }
 },
 "nbformat": 4,
 "nbformat_minor": 5
}
